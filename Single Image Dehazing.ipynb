{
 "cells": [
  {
   "cell_type": "code",
   "execution_count": null,
   "id": "ec6d5700",
   "metadata": {},
   "outputs": [],
   "source": []
  },
  {
   "cell_type": "code",
   "execution_count": 1,
   "id": "5c79ca0e",
   "metadata": {},
   "outputs": [],
   "source": [
    "import cv2"
   ]
  },
  {
   "cell_type": "markdown",
   "id": "848bc6c8",
   "metadata": {},
   "source": [
    "### Let us first import cv"
   ]
  },
  {
   "cell_type": "code",
   "execution_count": 3,
   "id": "f5b6e412",
   "metadata": {},
   "outputs": [],
   "source": [
    "import numpy as np"
   ]
  },
  {
   "cell_type": "code",
   "execution_count": 4,
   "id": "e3e7ef28",
   "metadata": {},
   "outputs": [],
   "source": [
    "img=cv2.imread(r\"C:\\Users\\Sneha\\Documents\\new.jpg\")"
   ]
  },
  {
   "cell_type": "code",
   "execution_count": 5,
   "id": "59239f4b",
   "metadata": {},
   "outputs": [],
   "source": [
    "averaging=cv2.blur(img, (5,5))"
   ]
  },
  {
   "cell_type": "markdown",
   "id": "7c5f0ec9",
   "metadata": {},
   "source": [
    "### Lets cover the original notion and averaging as you can see the Gaussian to the averaging method we are going to take kernel in this case."
   ]
  },
  {
   "cell_type": "code",
   "execution_count": 6,
   "id": "f3c786a2",
   "metadata": {},
   "outputs": [],
   "source": [
    "gaussian=cv2.GaussianBlur(img, (5,5), 0)"
   ]
  },
  {
   "cell_type": "code",
   "execution_count": 17,
   "id": "5c57ed85",
   "metadata": {},
   "outputs": [],
   "source": [
    "median=cv2.medianBlur(img, 5)"
   ]
  },
  {
   "cell_type": "code",
   "execution_count": null,
   "id": "be138b04",
   "metadata": {},
   "outputs": [],
   "source": [
    "bilateral=cv2.bilateralFilter(img, 5, 75, 75)"
   ]
  },
  {
   "cell_type": "code",
   "execution_count": 7,
   "id": "4735fa47",
   "metadata": {},
   "outputs": [],
   "source": [
    "cv2.imshow(\"original image\",img)\n"
   ]
  },
  {
   "cell_type": "code",
   "execution_count": null,
   "id": "41edd27c",
   "metadata": {},
   "outputs": [],
   "source": [
    "cv2.imshow(\"Gaussian\",gaussian)"
   ]
  },
  {
   "cell_type": "code",
   "execution_count": 16,
   "id": "d27f99b8",
   "metadata": {
    "scrolled": true
   },
   "outputs": [],
   "source": [
    "cv2.imshow(\"Median\",median)"
   ]
  },
  {
   "cell_type": "code",
   "execution_count": 9,
   "id": "8fb76a08",
   "metadata": {},
   "outputs": [
    {
     "data": {
      "text/plain": [
       "-1"
      ]
     },
     "execution_count": 9,
     "metadata": {},
     "output_type": "execute_result"
    }
   ],
   "source": [
    "cv2.waitKey(0)"
   ]
  },
  {
   "cell_type": "code",
   "execution_count": 18,
   "id": "87185395",
   "metadata": {},
   "outputs": [],
   "source": [
    "cv2.destroyAllWindows()"
   ]
  },
  {
   "cell_type": "code",
   "execution_count": null,
   "id": "19531a65",
   "metadata": {},
   "outputs": [],
   "source": []
  },
  {
   "cell_type": "code",
   "execution_count": null,
   "id": "5d834c13",
   "metadata": {},
   "outputs": [],
   "source": []
  }
 ],
 "metadata": {
  "kernelspec": {
   "display_name": "Python 3",
   "language": "python",
   "name": "python3"
  },
  "language_info": {
   "codemirror_mode": {
    "name": "ipython",
    "version": 3
   },
   "file_extension": ".py",
   "mimetype": "text/x-python",
   "name": "python",
   "nbconvert_exporter": "python",
   "pygments_lexer": "ipython3",
   "version": "3.9.4"
  },
  "varInspector": {
   "cols": {
    "lenName": 16,
    "lenType": 16,
    "lenVar": 40
   },
   "kernels_config": {
    "python": {
     "delete_cmd_postfix": "",
     "delete_cmd_prefix": "del ",
     "library": "var_list.py",
     "varRefreshCmd": "print(var_dic_list())"
    },
    "r": {
     "delete_cmd_postfix": ") ",
     "delete_cmd_prefix": "rm(",
     "library": "var_list.r",
     "varRefreshCmd": "cat(var_dic_list()) "
    }
   },
   "types_to_exclude": [
    "module",
    "function",
    "builtin_function_or_method",
    "instance",
    "_Feature"
   ],
   "window_display": false
  }
 },
 "nbformat": 4,
 "nbformat_minor": 5
}
